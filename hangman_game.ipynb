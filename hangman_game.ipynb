{
 "cells": [
  {
   "cell_type": "code",
   "execution_count": 1,
   "metadata": {},
   "outputs": [],
   "source": [
    "import random, time"
   ]
  },
  {
   "cell_type": "code",
   "execution_count": 2,
   "metadata": {},
   "outputs": [],
   "source": [
    "fruits = ['pear', 'mango', 'apple', 'banana', 'apricot',\n",
    "         'pineapple', 'cantaloupe', 'grapefuit', 'jackfruit', 'papaya']\n",
    "superHeroes = ['hawkeye', 'robin', 'galactus', 'thor', 'mystique'\n",
    "              'superman', 'deadpool', 'vision', 'sandman', 'aquaman']"
   ]
  },
  {
   "cell_type": "code",
   "execution_count": 3,
   "metadata": {},
   "outputs": [],
   "source": [
    "#Variable to store game statistics\n",
    "userGuessList = []\n",
    "userGuesses = []\n",
    "playGame = True\n",
    "category = \"\"\n",
    "continueGame = \"Y\""
   ]
  },
  {
   "cell_type": "code",
   "execution_count": 4,
   "metadata": {},
   "outputs": [
    {
     "ename": "SyntaxError",
     "evalue": "invalid syntax (<ipython-input-4-c7267576090d>, line 93)",
     "output_type": "error",
     "traceback": [
      "\u001b[1;36m  File \u001b[1;32m\"<ipython-input-4-c7267576090d>\"\u001b[1;36m, line \u001b[1;32m93\u001b[0m\n\u001b[1;33m    else:\u001b[0m\n\u001b[1;37m       ^\u001b[0m\n\u001b[1;31mSyntaxError\u001b[0m\u001b[1;31m:\u001b[0m invalid syntax\n"
     ]
    }
   ],
   "source": [
    "#The game info\n",
    "name = input(\"Enter your name : \")\n",
    "print(\"Hello\", name.capitalize(), \"let's start playing hangman!\")\n",
    "time.sleep(1)\n",
    "print(\"The objective of the game is to guess the secret word that has been prepared\")\n",
    "time.sleep(1)\n",
    "print(\"You can guess only one letter at a time. don't press 'enter key' after each guess!\")\n",
    "time.sleep(2)\n",
    "print(\"Let the fun begin!\")\n",
    "time.sleep(1)\n",
    "\n",
    "while True:\n",
    "    #Choosing random word\n",
    "    while True:\n",
    "        if category.upper() == 'S':\n",
    "            secretWord = random.choice(superHeroes)\n",
    "            break\n",
    "        elif category.upper() == 'F':\n",
    "            secretWord = random.choices(fruits)\n",
    "            break\n",
    "        else :\n",
    "            category = input(\"Please select a category: 'F' for fruits / 'S' for super heroes, 'X' to exit\")\n",
    "\n",
    "        if category.upper() == 'X':\n",
    "            print(\"Bye, see you next time!\")\n",
    "            playGame = False\n",
    "            break\n",
    "\n",
    "    if playgame:\n",
    "        secretWordList = list(secretWord)\n",
    "        attempts = (len(secretWord) + 2)\n",
    "        \n",
    "        #Utility function to print user's guesses\n",
    "        def printGuessedLetter():\n",
    "            print(\"Your Secret Word is : \" + ''.join(userGuessList))\n",
    "        \n",
    "        #Adding blank line to userGuessList to create the blank secret word\n",
    "        for n in secretWordList:\n",
    "            userGuessList.append('_')\n",
    "        printGuessedLetter()\n",
    "        \n",
    "        print(\"The number of allowed guesses for this word is : \", attempts)\n",
    "        \n",
    "        #Starting the game\n",
    "        while True:\n",
    "            print(\"Guess a letter : \")\n",
    "            letter = input()\n",
    "            \n",
    "            if letter in userGuesses:\n",
    "                print(\"You already guess this letter, try something else\")\n",
    "            \n",
    "            else:\n",
    "                attempts -=1\n",
    "                userGuesses.append(letter)\n",
    "                if letter in secretWordList:\n",
    "                    print(\"Nice guess!\")\n",
    "                    if attempts > 0:\n",
    "                        print(\"You have \", attempts, \" guess left!\")\n",
    "                    for i in range(len(secretWordList)):\n",
    "                        if letter == secretWordList[i]:\n",
    "                            letterIndex = i\n",
    "                            userGuessList[letterIndex] = letter.upper()\n",
    "                            printGuessedLetter()\n",
    "                            \n",
    "                        else:\n",
    "                            print(\"Oops! try again\")\n",
    "                            if attempts > 0:\n",
    "                                print(\"You have \", attempts, \" guess left!\")\n",
    "                            printGuessedLetter()\n",
    "                    \n",
    "                    #Win/loss condition for game\n",
    "                    joinedList = ''.join(userGuessList)\n",
    "                    if joinedList.upper() == secretWord.upper():\n",
    "                        print(\"Yay! you won!\")\n",
    "                        break\n",
    "                    elif attempts == 0:\n",
    "                        print(\"Too many guess, try next time!\")\n",
    "                        print(\"The secret word is : \"+secretWord.upper())\n",
    "                        break\n",
    "                    \n",
    "                #Play again logic for the game\n",
    "                continueGame = input(\"Do you want to play again? [Y] continue, press any other key to quit\")\n",
    "                if continueGame == 'y':\n",
    "                    category = input(\"Please select a valid categary: F for Fruits / S for Super-Heroes\")\n",
    "                    userGuessList = []\n",
    "                    userGuesses = []\n",
    "                    playGame = True\n",
    "                \n",
    "                else:\n",
    "                    print(\"Thank you for playing with us\")\n",
    "                    break\n",
    "                    \n",
    "            else:\n",
    "                break"
   ]
  },
  {
   "cell_type": "code",
   "execution_count": null,
   "metadata": {},
   "outputs": [],
   "source": []
  }
 ],
 "metadata": {
  "kernelspec": {
   "display_name": "Python 3",
   "language": "python",
   "name": "python3"
  },
  "language_info": {
   "codemirror_mode": {
    "name": "ipython",
    "version": 3
   },
   "file_extension": ".py",
   "mimetype": "text/x-python",
   "name": "python",
   "nbconvert_exporter": "python",
   "pygments_lexer": "ipython3",
   "version": "3.7.4"
  }
 },
 "nbformat": 4,
 "nbformat_minor": 2
}
